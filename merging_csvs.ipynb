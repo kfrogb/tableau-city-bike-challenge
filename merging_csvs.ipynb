{
 "cells": [
  {
   "cell_type": "code",
   "execution_count": 11,
   "metadata": {},
   "outputs": [],
   "source": [
    "import pandas as pd\n",
    "import glob\n",
    "\n",
    "# Get a list of all CSV files in the current directory\n",
    "csv_files = glob.glob('*.csv')"
   ]
  },
  {
   "cell_type": "code",
   "execution_count": 12,
   "metadata": {},
   "outputs": [
    {
     "name": "stdout",
     "output_type": "stream",
     "text": [
      "['202007-citibike-tripdata_1.csv', '202010-citibike-tripdata_1.csv', '202003-citibike-tripdata_1.csv']\n"
     ]
    }
   ],
   "source": [
    "# Print the list of CSV files\n",
    "print(csv_files)"
   ]
  },
  {
   "cell_type": "code",
   "execution_count": 13,
   "metadata": {},
   "outputs": [],
   "source": [
    "# Create an empty dataframe to store the combined data\n",
    "df = pd.DataFrame()"
   ]
  },
  {
   "cell_type": "code",
   "execution_count": 14,
   "metadata": {},
   "outputs": [
    {
     "name": "stderr",
     "output_type": "stream",
     "text": [
      "/var/folders/7f/nfp2_w1x6cldk6vsywsyjw340000gn/T/ipykernel_3149/832655961.py:3: DtypeWarning: Columns (5,7) have mixed types. Specify dtype option on import or set low_memory=False.\n",
      "  df_temp = pd.read_csv(file)\n",
      "/var/folders/7f/nfp2_w1x6cldk6vsywsyjw340000gn/T/ipykernel_3149/832655961.py:3: DtypeWarning: Columns (5,7) have mixed types. Specify dtype option on import or set low_memory=False.\n",
      "  df_temp = pd.read_csv(file)\n",
      "/var/folders/7f/nfp2_w1x6cldk6vsywsyjw340000gn/T/ipykernel_3149/832655961.py:3: DtypeWarning: Columns (7) have mixed types. Specify dtype option on import or set low_memory=False.\n",
      "  df_temp = pd.read_csv(file)\n"
     ]
    }
   ],
   "source": [
    "# Read each CSV file and append it to the combined dataframe\n",
    "for file in csv_files:\n",
    "    df_temp = pd.read_csv(file)\n",
    "    df = pd.concat([df, df_temp], ignore_index=True)"
   ]
  },
  {
   "cell_type": "code",
   "execution_count": 15,
   "metadata": {},
   "outputs": [],
   "source": [
    "# Save the combined dataframe to a new CSV file\n",
    "df.to_csv('combined_data.csv', index=False) "
   ]
  }
 ],
 "metadata": {
  "anaconda-cloud": {},
  "kernelspec": {
   "display_name": "Python 3 (ipykernel)",
   "language": "python",
   "name": "python3"
  },
  "language_info": {
   "codemirror_mode": {
    "name": "ipython",
    "version": 3
   },
   "file_extension": ".py",
   "mimetype": "text/x-python",
   "name": "python",
   "nbconvert_exporter": "python",
   "pygments_lexer": "ipython3",
   "version": "3.10.14"
  }
 },
 "nbformat": 4,
 "nbformat_minor": 4
}
